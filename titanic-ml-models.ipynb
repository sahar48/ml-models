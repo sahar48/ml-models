{
 "cells": [
  {
   "cell_type": "code",
   "execution_count": 1,
   "id": "71b91324",
   "metadata": {
    "execution": {
     "iopub.execute_input": "2023-04-19T21:09:01.266444Z",
     "iopub.status.busy": "2023-04-19T21:09:01.265575Z",
     "iopub.status.idle": "2023-04-19T21:09:02.501608Z",
     "shell.execute_reply": "2023-04-19T21:09:02.500289Z"
    },
    "papermill": {
     "duration": 1.248213,
     "end_time": "2023-04-19T21:09:02.505321",
     "exception": false,
     "start_time": "2023-04-19T21:09:01.257108",
     "status": "completed"
    },
    "tags": []
   },
   "outputs": [],
   "source": [
    "import pandas as pd\n",
    "from sklearn import preprocessing\n",
    "from sklearn.model_selection import train_test_split\n",
    "from sklearn.metrics import accuracy_score"
   ]
  },
  {
   "cell_type": "code",
   "execution_count": 2,
   "id": "6c3aa424",
   "metadata": {
    "execution": {
     "iopub.execute_input": "2023-04-19T21:09:02.518216Z",
     "iopub.status.busy": "2023-04-19T21:09:02.517770Z",
     "iopub.status.idle": "2023-04-19T21:09:02.558422Z",
     "shell.execute_reply": "2023-04-19T21:09:02.557147Z"
    },
    "papermill": {
     "duration": 0.050268,
     "end_time": "2023-04-19T21:09:02.561254",
     "exception": false,
     "start_time": "2023-04-19T21:09:02.510986",
     "status": "completed"
    },
    "tags": []
   },
   "outputs": [],
   "source": [
    "data = pd.read_csv(\"/kaggle/input/titanic/train.csv\")\n",
    "test = pd.read_csv(\"/kaggle/input/titanic/test.csv\")\n",
    "test_ids = test[\"PassengerId\"]"
   ]
  },
  {
   "cell_type": "code",
   "execution_count": 3,
   "id": "4ce4b2f8",
   "metadata": {
    "execution": {
     "iopub.execute_input": "2023-04-19T21:09:02.573854Z",
     "iopub.status.busy": "2023-04-19T21:09:02.573407Z",
     "iopub.status.idle": "2023-04-19T21:09:02.596890Z",
     "shell.execute_reply": "2023-04-19T21:09:02.595944Z"
    },
    "papermill": {
     "duration": 0.033603,
     "end_time": "2023-04-19T21:09:02.600321",
     "exception": false,
     "start_time": "2023-04-19T21:09:02.566718",
     "status": "completed"
    },
    "tags": []
   },
   "outputs": [
    {
     "data": {
      "text/html": [
       "<div>\n",
       "<style scoped>\n",
       "    .dataframe tbody tr th:only-of-type {\n",
       "        vertical-align: middle;\n",
       "    }\n",
       "\n",
       "    .dataframe tbody tr th {\n",
       "        vertical-align: top;\n",
       "    }\n",
       "\n",
       "    .dataframe thead th {\n",
       "        text-align: right;\n",
       "    }\n",
       "</style>\n",
       "<table border=\"1\" class=\"dataframe\">\n",
       "  <thead>\n",
       "    <tr style=\"text-align: right;\">\n",
       "      <th></th>\n",
       "      <th>PassengerId</th>\n",
       "      <th>Survived</th>\n",
       "      <th>Pclass</th>\n",
       "      <th>Name</th>\n",
       "      <th>Sex</th>\n",
       "      <th>Age</th>\n",
       "      <th>SibSp</th>\n",
       "      <th>Parch</th>\n",
       "      <th>Ticket</th>\n",
       "      <th>Fare</th>\n",
       "      <th>Cabin</th>\n",
       "      <th>Embarked</th>\n",
       "    </tr>\n",
       "  </thead>\n",
       "  <tbody>\n",
       "    <tr>\n",
       "      <th>0</th>\n",
       "      <td>1</td>\n",
       "      <td>0</td>\n",
       "      <td>3</td>\n",
       "      <td>Braund, Mr. Owen Harris</td>\n",
       "      <td>male</td>\n",
       "      <td>22.0</td>\n",
       "      <td>1</td>\n",
       "      <td>0</td>\n",
       "      <td>A/5 21171</td>\n",
       "      <td>7.2500</td>\n",
       "      <td>NaN</td>\n",
       "      <td>S</td>\n",
       "    </tr>\n",
       "    <tr>\n",
       "      <th>1</th>\n",
       "      <td>2</td>\n",
       "      <td>1</td>\n",
       "      <td>1</td>\n",
       "      <td>Cumings, Mrs. John Bradley (Florence Briggs Th...</td>\n",
       "      <td>female</td>\n",
       "      <td>38.0</td>\n",
       "      <td>1</td>\n",
       "      <td>0</td>\n",
       "      <td>PC 17599</td>\n",
       "      <td>71.2833</td>\n",
       "      <td>C85</td>\n",
       "      <td>C</td>\n",
       "    </tr>\n",
       "    <tr>\n",
       "      <th>2</th>\n",
       "      <td>3</td>\n",
       "      <td>1</td>\n",
       "      <td>3</td>\n",
       "      <td>Heikkinen, Miss. Laina</td>\n",
       "      <td>female</td>\n",
       "      <td>26.0</td>\n",
       "      <td>0</td>\n",
       "      <td>0</td>\n",
       "      <td>STON/O2. 3101282</td>\n",
       "      <td>7.9250</td>\n",
       "      <td>NaN</td>\n",
       "      <td>S</td>\n",
       "    </tr>\n",
       "    <tr>\n",
       "      <th>3</th>\n",
       "      <td>4</td>\n",
       "      <td>1</td>\n",
       "      <td>1</td>\n",
       "      <td>Futrelle, Mrs. Jacques Heath (Lily May Peel)</td>\n",
       "      <td>female</td>\n",
       "      <td>35.0</td>\n",
       "      <td>1</td>\n",
       "      <td>0</td>\n",
       "      <td>113803</td>\n",
       "      <td>53.1000</td>\n",
       "      <td>C123</td>\n",
       "      <td>S</td>\n",
       "    </tr>\n",
       "    <tr>\n",
       "      <th>4</th>\n",
       "      <td>5</td>\n",
       "      <td>0</td>\n",
       "      <td>3</td>\n",
       "      <td>Allen, Mr. William Henry</td>\n",
       "      <td>male</td>\n",
       "      <td>35.0</td>\n",
       "      <td>0</td>\n",
       "      <td>0</td>\n",
       "      <td>373450</td>\n",
       "      <td>8.0500</td>\n",
       "      <td>NaN</td>\n",
       "      <td>S</td>\n",
       "    </tr>\n",
       "  </tbody>\n",
       "</table>\n",
       "</div>"
      ],
      "text/plain": [
       "   PassengerId  Survived  Pclass  \\\n",
       "0            1         0       3   \n",
       "1            2         1       1   \n",
       "2            3         1       3   \n",
       "3            4         1       1   \n",
       "4            5         0       3   \n",
       "\n",
       "                                                Name     Sex   Age  SibSp  \\\n",
       "0                            Braund, Mr. Owen Harris    male  22.0      1   \n",
       "1  Cumings, Mrs. John Bradley (Florence Briggs Th...  female  38.0      1   \n",
       "2                             Heikkinen, Miss. Laina  female  26.0      0   \n",
       "3       Futrelle, Mrs. Jacques Heath (Lily May Peel)  female  35.0      1   \n",
       "4                           Allen, Mr. William Henry    male  35.0      0   \n",
       "\n",
       "   Parch            Ticket     Fare Cabin Embarked  \n",
       "0      0         A/5 21171   7.2500   NaN        S  \n",
       "1      0          PC 17599  71.2833   C85        C  \n",
       "2      0  STON/O2. 3101282   7.9250   NaN        S  \n",
       "3      0            113803  53.1000  C123        S  \n",
       "4      0            373450   8.0500   NaN        S  "
      ]
     },
     "execution_count": 3,
     "metadata": {},
     "output_type": "execute_result"
    }
   ],
   "source": [
    "data.head(5)"
   ]
  },
  {
   "cell_type": "code",
   "execution_count": 4,
   "id": "818a2f1e",
   "metadata": {
    "execution": {
     "iopub.execute_input": "2023-04-19T21:09:02.615500Z",
     "iopub.status.busy": "2023-04-19T21:09:02.614241Z",
     "iopub.status.idle": "2023-04-19T21:09:02.619574Z",
     "shell.execute_reply": "2023-04-19T21:09:02.618318Z"
    },
    "papermill": {
     "duration": 0.015893,
     "end_time": "2023-04-19T21:09:02.622348",
     "exception": false,
     "start_time": "2023-04-19T21:09:02.606455",
     "status": "completed"
    },
    "tags": []
   },
   "outputs": [],
   "source": [
    "#data['Name']= data['Name'].apply(lambda x : x[x.find(',')+2:])\n",
    "#data['Name']= data['Name'].apply(lambda x : x[:x.find('.')])\n",
    "#data['Name'].head()"
   ]
  },
  {
   "cell_type": "code",
   "execution_count": 5,
   "id": "8179bd2c",
   "metadata": {
    "execution": {
     "iopub.execute_input": "2023-04-19T21:09:02.636168Z",
     "iopub.status.busy": "2023-04-19T21:09:02.635704Z",
     "iopub.status.idle": "2023-04-19T21:09:02.664228Z",
     "shell.execute_reply": "2023-04-19T21:09:02.662488Z"
    },
    "papermill": {
     "duration": 0.039079,
     "end_time": "2023-04-19T21:09:02.667380",
     "exception": false,
     "start_time": "2023-04-19T21:09:02.628301",
     "status": "completed"
    },
    "tags": []
   },
   "outputs": [],
   "source": [
    "def clean(data):\n",
    "    data = data.drop([\"Ticket\", \"PassengerId\", \"Cabin\"], axis=1)\n",
    "    \n",
    "    cols = [\"SibSp\", \"Parch\", \"Fare\", \"Age\"]\n",
    "    for col in cols:\n",
    "        data[col].fillna(data[col].median(), inplace=True)\n",
    "        \n",
    "    # Extracting titles\n",
    "    data['Name']= data['Name'].apply(lambda x : x[x.find(',')+2:])\n",
    "    data['Name']= data['Name'].apply(lambda x : x[:x.find('.')])\n",
    "    le = preprocessing.LabelEncoder()\n",
    "    data['Name'] = le.fit_transform(data['Name'])\n",
    "\n",
    "    data.Embarked.fillna(\"U\", inplace=True)\n",
    "    return data\n",
    "\n",
    "data = clean(data)\n",
    "test = clean(test)"
   ]
  },
  {
   "cell_type": "code",
   "execution_count": 6,
   "id": "634de4f1",
   "metadata": {
    "execution": {
     "iopub.execute_input": "2023-04-19T21:09:02.681307Z",
     "iopub.status.busy": "2023-04-19T21:09:02.680668Z",
     "iopub.status.idle": "2023-04-19T21:09:02.699886Z",
     "shell.execute_reply": "2023-04-19T21:09:02.698932Z"
    },
    "papermill": {
     "duration": 0.029257,
     "end_time": "2023-04-19T21:09:02.702476",
     "exception": false,
     "start_time": "2023-04-19T21:09:02.673219",
     "status": "completed"
    },
    "tags": []
   },
   "outputs": [
    {
     "data": {
      "text/html": [
       "<div>\n",
       "<style scoped>\n",
       "    .dataframe tbody tr th:only-of-type {\n",
       "        vertical-align: middle;\n",
       "    }\n",
       "\n",
       "    .dataframe tbody tr th {\n",
       "        vertical-align: top;\n",
       "    }\n",
       "\n",
       "    .dataframe thead th {\n",
       "        text-align: right;\n",
       "    }\n",
       "</style>\n",
       "<table border=\"1\" class=\"dataframe\">\n",
       "  <thead>\n",
       "    <tr style=\"text-align: right;\">\n",
       "      <th></th>\n",
       "      <th>Survived</th>\n",
       "      <th>Pclass</th>\n",
       "      <th>Name</th>\n",
       "      <th>Sex</th>\n",
       "      <th>Age</th>\n",
       "      <th>SibSp</th>\n",
       "      <th>Parch</th>\n",
       "      <th>Fare</th>\n",
       "      <th>Embarked</th>\n",
       "    </tr>\n",
       "  </thead>\n",
       "  <tbody>\n",
       "    <tr>\n",
       "      <th>0</th>\n",
       "      <td>0</td>\n",
       "      <td>3</td>\n",
       "      <td>11</td>\n",
       "      <td>male</td>\n",
       "      <td>22.0</td>\n",
       "      <td>1</td>\n",
       "      <td>0</td>\n",
       "      <td>7.2500</td>\n",
       "      <td>S</td>\n",
       "    </tr>\n",
       "    <tr>\n",
       "      <th>1</th>\n",
       "      <td>1</td>\n",
       "      <td>1</td>\n",
       "      <td>12</td>\n",
       "      <td>female</td>\n",
       "      <td>38.0</td>\n",
       "      <td>1</td>\n",
       "      <td>0</td>\n",
       "      <td>71.2833</td>\n",
       "      <td>C</td>\n",
       "    </tr>\n",
       "    <tr>\n",
       "      <th>2</th>\n",
       "      <td>1</td>\n",
       "      <td>3</td>\n",
       "      <td>8</td>\n",
       "      <td>female</td>\n",
       "      <td>26.0</td>\n",
       "      <td>0</td>\n",
       "      <td>0</td>\n",
       "      <td>7.9250</td>\n",
       "      <td>S</td>\n",
       "    </tr>\n",
       "    <tr>\n",
       "      <th>3</th>\n",
       "      <td>1</td>\n",
       "      <td>1</td>\n",
       "      <td>12</td>\n",
       "      <td>female</td>\n",
       "      <td>35.0</td>\n",
       "      <td>1</td>\n",
       "      <td>0</td>\n",
       "      <td>53.1000</td>\n",
       "      <td>S</td>\n",
       "    </tr>\n",
       "    <tr>\n",
       "      <th>4</th>\n",
       "      <td>0</td>\n",
       "      <td>3</td>\n",
       "      <td>11</td>\n",
       "      <td>male</td>\n",
       "      <td>35.0</td>\n",
       "      <td>0</td>\n",
       "      <td>0</td>\n",
       "      <td>8.0500</td>\n",
       "      <td>S</td>\n",
       "    </tr>\n",
       "    <tr>\n",
       "      <th>...</th>\n",
       "      <td>...</td>\n",
       "      <td>...</td>\n",
       "      <td>...</td>\n",
       "      <td>...</td>\n",
       "      <td>...</td>\n",
       "      <td>...</td>\n",
       "      <td>...</td>\n",
       "      <td>...</td>\n",
       "      <td>...</td>\n",
       "    </tr>\n",
       "    <tr>\n",
       "      <th>886</th>\n",
       "      <td>0</td>\n",
       "      <td>2</td>\n",
       "      <td>14</td>\n",
       "      <td>male</td>\n",
       "      <td>27.0</td>\n",
       "      <td>0</td>\n",
       "      <td>0</td>\n",
       "      <td>13.0000</td>\n",
       "      <td>S</td>\n",
       "    </tr>\n",
       "    <tr>\n",
       "      <th>887</th>\n",
       "      <td>1</td>\n",
       "      <td>1</td>\n",
       "      <td>8</td>\n",
       "      <td>female</td>\n",
       "      <td>19.0</td>\n",
       "      <td>0</td>\n",
       "      <td>0</td>\n",
       "      <td>30.0000</td>\n",
       "      <td>S</td>\n",
       "    </tr>\n",
       "    <tr>\n",
       "      <th>888</th>\n",
       "      <td>0</td>\n",
       "      <td>3</td>\n",
       "      <td>8</td>\n",
       "      <td>female</td>\n",
       "      <td>28.0</td>\n",
       "      <td>1</td>\n",
       "      <td>2</td>\n",
       "      <td>23.4500</td>\n",
       "      <td>S</td>\n",
       "    </tr>\n",
       "    <tr>\n",
       "      <th>889</th>\n",
       "      <td>1</td>\n",
       "      <td>1</td>\n",
       "      <td>11</td>\n",
       "      <td>male</td>\n",
       "      <td>26.0</td>\n",
       "      <td>0</td>\n",
       "      <td>0</td>\n",
       "      <td>30.0000</td>\n",
       "      <td>C</td>\n",
       "    </tr>\n",
       "    <tr>\n",
       "      <th>890</th>\n",
       "      <td>0</td>\n",
       "      <td>3</td>\n",
       "      <td>11</td>\n",
       "      <td>male</td>\n",
       "      <td>32.0</td>\n",
       "      <td>0</td>\n",
       "      <td>0</td>\n",
       "      <td>7.7500</td>\n",
       "      <td>Q</td>\n",
       "    </tr>\n",
       "  </tbody>\n",
       "</table>\n",
       "<p>891 rows × 9 columns</p>\n",
       "</div>"
      ],
      "text/plain": [
       "     Survived  Pclass  Name     Sex   Age  SibSp  Parch     Fare Embarked\n",
       "0           0       3    11    male  22.0      1      0   7.2500        S\n",
       "1           1       1    12  female  38.0      1      0  71.2833        C\n",
       "2           1       3     8  female  26.0      0      0   7.9250        S\n",
       "3           1       1    12  female  35.0      1      0  53.1000        S\n",
       "4           0       3    11    male  35.0      0      0   8.0500        S\n",
       "..        ...     ...   ...     ...   ...    ...    ...      ...      ...\n",
       "886         0       2    14    male  27.0      0      0  13.0000        S\n",
       "887         1       1     8  female  19.0      0      0  30.0000        S\n",
       "888         0       3     8  female  28.0      1      2  23.4500        S\n",
       "889         1       1    11    male  26.0      0      0  30.0000        C\n",
       "890         0       3    11    male  32.0      0      0   7.7500        Q\n",
       "\n",
       "[891 rows x 9 columns]"
      ]
     },
     "execution_count": 6,
     "metadata": {},
     "output_type": "execute_result"
    }
   ],
   "source": [
    "data"
   ]
  },
  {
   "cell_type": "code",
   "execution_count": 7,
   "id": "1d799b64",
   "metadata": {
    "execution": {
     "iopub.execute_input": "2023-04-19T21:09:02.716286Z",
     "iopub.status.busy": "2023-04-19T21:09:02.715845Z",
     "iopub.status.idle": "2023-04-19T21:09:02.736780Z",
     "shell.execute_reply": "2023-04-19T21:09:02.735151Z"
    },
    "papermill": {
     "duration": 0.031208,
     "end_time": "2023-04-19T21:09:02.739503",
     "exception": false,
     "start_time": "2023-04-19T21:09:02.708295",
     "status": "completed"
    },
    "tags": []
   },
   "outputs": [
    {
     "name": "stdout",
     "output_type": "stream",
     "text": [
      "<class 'pandas.core.frame.DataFrame'>\n",
      "RangeIndex: 891 entries, 0 to 890\n",
      "Data columns (total 9 columns):\n",
      " #   Column    Non-Null Count  Dtype  \n",
      "---  ------    --------------  -----  \n",
      " 0   Survived  891 non-null    int64  \n",
      " 1   Pclass    891 non-null    int64  \n",
      " 2   Name      891 non-null    int64  \n",
      " 3   Sex       891 non-null    object \n",
      " 4   Age       891 non-null    float64\n",
      " 5   SibSp     891 non-null    int64  \n",
      " 6   Parch     891 non-null    int64  \n",
      " 7   Fare      891 non-null    float64\n",
      " 8   Embarked  891 non-null    object \n",
      "dtypes: float64(2), int64(5), object(2)\n",
      "memory usage: 62.8+ KB\n"
     ]
    }
   ],
   "source": [
    "data.info()"
   ]
  },
  {
   "cell_type": "code",
   "execution_count": 8,
   "id": "f2bddb81",
   "metadata": {
    "execution": {
     "iopub.execute_input": "2023-04-19T21:09:02.754151Z",
     "iopub.status.busy": "2023-04-19T21:09:02.753165Z",
     "iopub.status.idle": "2023-04-19T21:09:02.764848Z",
     "shell.execute_reply": "2023-04-19T21:09:02.763551Z"
    },
    "papermill": {
     "duration": 0.022225,
     "end_time": "2023-04-19T21:09:02.767826",
     "exception": false,
     "start_time": "2023-04-19T21:09:02.745601",
     "status": "completed"
    },
    "tags": []
   },
   "outputs": [],
   "source": [
    "le = preprocessing.LabelEncoder()\n",
    "cols = ['Name','Sex','Embarked']\n",
    "\n",
    "for col in cols: \n",
    "    data[col] = le.fit_transform(data[col])\n",
    "    test[col] = le.transform(test[col])"
   ]
  },
  {
   "cell_type": "code",
   "execution_count": 9,
   "id": "f3403758",
   "metadata": {
    "execution": {
     "iopub.execute_input": "2023-04-19T21:09:02.783023Z",
     "iopub.status.busy": "2023-04-19T21:09:02.782594Z",
     "iopub.status.idle": "2023-04-19T21:09:02.796509Z",
     "shell.execute_reply": "2023-04-19T21:09:02.795254Z"
    },
    "papermill": {
     "duration": 0.024661,
     "end_time": "2023-04-19T21:09:02.798731",
     "exception": false,
     "start_time": "2023-04-19T21:09:02.774070",
     "status": "completed"
    },
    "tags": []
   },
   "outputs": [
    {
     "data": {
      "text/html": [
       "<div>\n",
       "<style scoped>\n",
       "    .dataframe tbody tr th:only-of-type {\n",
       "        vertical-align: middle;\n",
       "    }\n",
       "\n",
       "    .dataframe tbody tr th {\n",
       "        vertical-align: top;\n",
       "    }\n",
       "\n",
       "    .dataframe thead th {\n",
       "        text-align: right;\n",
       "    }\n",
       "</style>\n",
       "<table border=\"1\" class=\"dataframe\">\n",
       "  <thead>\n",
       "    <tr style=\"text-align: right;\">\n",
       "      <th></th>\n",
       "      <th>Survived</th>\n",
       "      <th>Pclass</th>\n",
       "      <th>Name</th>\n",
       "      <th>Sex</th>\n",
       "      <th>Age</th>\n",
       "      <th>SibSp</th>\n",
       "      <th>Parch</th>\n",
       "      <th>Fare</th>\n",
       "      <th>Embarked</th>\n",
       "    </tr>\n",
       "  </thead>\n",
       "  <tbody>\n",
       "    <tr>\n",
       "      <th>0</th>\n",
       "      <td>0</td>\n",
       "      <td>3</td>\n",
       "      <td>11</td>\n",
       "      <td>1</td>\n",
       "      <td>22.0</td>\n",
       "      <td>1</td>\n",
       "      <td>0</td>\n",
       "      <td>7.2500</td>\n",
       "      <td>2</td>\n",
       "    </tr>\n",
       "    <tr>\n",
       "      <th>1</th>\n",
       "      <td>1</td>\n",
       "      <td>1</td>\n",
       "      <td>12</td>\n",
       "      <td>0</td>\n",
       "      <td>38.0</td>\n",
       "      <td>1</td>\n",
       "      <td>0</td>\n",
       "      <td>71.2833</td>\n",
       "      <td>0</td>\n",
       "    </tr>\n",
       "    <tr>\n",
       "      <th>2</th>\n",
       "      <td>1</td>\n",
       "      <td>3</td>\n",
       "      <td>8</td>\n",
       "      <td>0</td>\n",
       "      <td>26.0</td>\n",
       "      <td>0</td>\n",
       "      <td>0</td>\n",
       "      <td>7.9250</td>\n",
       "      <td>2</td>\n",
       "    </tr>\n",
       "  </tbody>\n",
       "</table>\n",
       "</div>"
      ],
      "text/plain": [
       "   Survived  Pclass  Name  Sex   Age  SibSp  Parch     Fare  Embarked\n",
       "0         0       3    11    1  22.0      1      0   7.2500         2\n",
       "1         1       1    12    0  38.0      1      0  71.2833         0\n",
       "2         1       3     8    0  26.0      0      0   7.9250         2"
      ]
     },
     "execution_count": 9,
     "metadata": {},
     "output_type": "execute_result"
    }
   ],
   "source": [
    "data.head(3)"
   ]
  },
  {
   "cell_type": "code",
   "execution_count": 10,
   "id": "42b7f32e",
   "metadata": {
    "execution": {
     "iopub.execute_input": "2023-04-19T21:09:02.815210Z",
     "iopub.status.busy": "2023-04-19T21:09:02.814812Z",
     "iopub.status.idle": "2023-04-19T21:09:02.833039Z",
     "shell.execute_reply": "2023-04-19T21:09:02.831599Z"
    },
    "papermill": {
     "duration": 0.030737,
     "end_time": "2023-04-19T21:09:02.836080",
     "exception": false,
     "start_time": "2023-04-19T21:09:02.805343",
     "status": "completed"
    },
    "tags": []
   },
   "outputs": [],
   "source": [
    "y = data[\"Survived\"]\n",
    "X = data.drop(\"Survived\", axis=1)\n",
    "X_train, X_val, y_train, y_val = train_test_split(X, y, test_size=0.2, random_state=42)\n",
    "\n",
    "from sklearn.naive_bayes import GaussianNB\n",
    "gnb = GaussianNB().fit(X, y)\n",
    "prediction = gnb.predict(X_val)\n",
    "\n",
    "GaussianNB = accuracy_score(y_val, prediction)"
   ]
  },
  {
   "cell_type": "code",
   "execution_count": 11,
   "id": "c5ff93bb",
   "metadata": {
    "execution": {
     "iopub.execute_input": "2023-04-19T21:09:02.851405Z",
     "iopub.status.busy": "2023-04-19T21:09:02.850145Z",
     "iopub.status.idle": "2023-04-19T21:09:02.977159Z",
     "shell.execute_reply": "2023-04-19T21:09:02.975897Z"
    },
    "papermill": {
     "duration": 0.137575,
     "end_time": "2023-04-19T21:09:02.980152",
     "exception": false,
     "start_time": "2023-04-19T21:09:02.842577",
     "status": "completed"
    },
    "tags": []
   },
   "outputs": [],
   "source": [
    "from sklearn.linear_model import LogisticRegression\n",
    "clf = LogisticRegression(random_state=0, max_iter=1000).fit(X, y)\n",
    "predictions = clf.predict(X_val)\n",
    "LogisticRegression = accuracy_score(y_val, predictions)"
   ]
  },
  {
   "cell_type": "code",
   "execution_count": 12,
   "id": "c8a9de76",
   "metadata": {
    "execution": {
     "iopub.execute_input": "2023-04-19T21:09:02.994437Z",
     "iopub.status.busy": "2023-04-19T21:09:02.993997Z",
     "iopub.status.idle": "2023-04-19T21:09:03.090003Z",
     "shell.execute_reply": "2023-04-19T21:09:03.088762Z"
    },
    "papermill": {
     "duration": 0.106807,
     "end_time": "2023-04-19T21:09:03.093151",
     "exception": false,
     "start_time": "2023-04-19T21:09:02.986344",
     "status": "completed"
    },
    "tags": []
   },
   "outputs": [],
   "source": [
    "from sklearn import tree\n",
    "clf1 = tree.DecisionTreeClassifier().fit(X, y)\n",
    "prediction1 = clf1.predict(X_val)\n",
    "DecisionTreeClassifier = accuracy_score(y_val, prediction1)"
   ]
  },
  {
   "cell_type": "code",
   "execution_count": 13,
   "id": "d1cf4dd0",
   "metadata": {
    "execution": {
     "iopub.execute_input": "2023-04-19T21:09:03.107134Z",
     "iopub.status.busy": "2023-04-19T21:09:03.106727Z",
     "iopub.status.idle": "2023-04-19T21:09:03.341561Z",
     "shell.execute_reply": "2023-04-19T21:09:03.340152Z"
    },
    "papermill": {
     "duration": 0.244853,
     "end_time": "2023-04-19T21:09:03.344186",
     "exception": false,
     "start_time": "2023-04-19T21:09:03.099333",
     "status": "completed"
    },
    "tags": []
   },
   "outputs": [],
   "source": [
    "from sklearn.ensemble import RandomForestClassifier, AdaBoostClassifier\n",
    "clf2 = RandomForestClassifier(max_depth=2, random_state=0).fit(X, y)\n",
    "prediction2 = clf2.predict(X_val)\n",
    "RandomForestClassifier = accuracy_score(y_val, prediction2)"
   ]
  },
  {
   "cell_type": "code",
   "execution_count": 14,
   "id": "003f2bf3",
   "metadata": {
    "execution": {
     "iopub.execute_input": "2023-04-19T21:09:03.358279Z",
     "iopub.status.busy": "2023-04-19T21:09:03.357884Z",
     "iopub.status.idle": "2023-04-19T21:09:04.291812Z",
     "shell.execute_reply": "2023-04-19T21:09:04.290392Z"
    },
    "papermill": {
     "duration": 0.945193,
     "end_time": "2023-04-19T21:09:04.295635",
     "exception": false,
     "start_time": "2023-04-19T21:09:03.350442",
     "status": "completed"
    },
    "tags": []
   },
   "outputs": [],
   "source": [
    "from sklearn.neural_network import MLPClassifier\n",
    "clf3 = MLPClassifier(alpha=1, max_iter=1000).fit(X, y)\n",
    "prediction3 = clf3.predict(X_val)\n",
    "MLPClassifier = accuracy_score(y_val, prediction3)"
   ]
  },
  {
   "cell_type": "code",
   "execution_count": 15,
   "id": "19d1730b",
   "metadata": {
    "execution": {
     "iopub.execute_input": "2023-04-19T21:09:04.318583Z",
     "iopub.status.busy": "2023-04-19T21:09:04.317770Z",
     "iopub.status.idle": "2023-04-19T21:09:04.360846Z",
     "shell.execute_reply": "2023-04-19T21:09:04.359460Z"
    },
    "papermill": {
     "duration": 0.059422,
     "end_time": "2023-04-19T21:09:04.365506",
     "exception": false,
     "start_time": "2023-04-19T21:09:04.306084",
     "status": "completed"
    },
    "tags": []
   },
   "outputs": [],
   "source": [
    "from sklearn.discriminant_analysis import QuadraticDiscriminantAnalysis\n",
    "clf4 =  QuadraticDiscriminantAnalysis(). fit(X, y)\n",
    "prediction4 = clf4.predict(X_val)\n",
    "QuadraticDiscriminantAnalysis = accuracy_score(y_val, prediction4)"
   ]
  },
  {
   "cell_type": "code",
   "execution_count": 16,
   "id": "2e34d855",
   "metadata": {
    "execution": {
     "iopub.execute_input": "2023-04-19T21:09:04.388827Z",
     "iopub.status.busy": "2023-04-19T21:09:04.388008Z",
     "iopub.status.idle": "2023-04-19T21:09:04.508708Z",
     "shell.execute_reply": "2023-04-19T21:09:04.507394Z"
    },
    "papermill": {
     "duration": 0.135113,
     "end_time": "2023-04-19T21:09:04.511421",
     "exception": false,
     "start_time": "2023-04-19T21:09:04.376308",
     "status": "completed"
    },
    "tags": []
   },
   "outputs": [],
   "source": [
    "clf5 = AdaBoostClassifier(). fit(X, y)\n",
    "prediction5 = clf5.predict(X_val)\n",
    "AdaBoostClassifier = accuracy_score(y_val, prediction5)"
   ]
  },
  {
   "cell_type": "code",
   "execution_count": 17,
   "id": "720498de",
   "metadata": {
    "execution": {
     "iopub.execute_input": "2023-04-19T21:09:04.525468Z",
     "iopub.status.busy": "2023-04-19T21:09:04.525019Z",
     "iopub.status.idle": "2023-04-19T21:09:04.531975Z",
     "shell.execute_reply": "2023-04-19T21:09:04.530760Z"
    },
    "papermill": {
     "duration": 0.017164,
     "end_time": "2023-04-19T21:09:04.534759",
     "exception": false,
     "start_time": "2023-04-19T21:09:04.517595",
     "status": "completed"
    },
    "tags": []
   },
   "outputs": [
    {
     "name": "stdout",
     "output_type": "stream",
     "text": [
      "GaussianNB 0.770949720670391\n",
      "LogisticRegression 0.8100558659217877\n",
      "DecisionTreeClassifier 0.994413407821229\n",
      "RandomForestClassifier 0.7877094972067039\n",
      "MLPClassifier 0.8044692737430168\n",
      "QuadraticDiscriminantAnalysis 0.8044692737430168\n",
      "AdaBoostClassifier 0.8379888268156425\n"
     ]
    }
   ],
   "source": [
    "print('GaussianNB',GaussianNB)\n",
    "print('LogisticRegression',LogisticRegression)\n",
    "print('DecisionTreeClassifier',DecisionTreeClassifier)\n",
    "print('RandomForestClassifier',RandomForestClassifier)\n",
    "print('MLPClassifier', MLPClassifier)\n",
    "print('QuadraticDiscriminantAnalysis', QuadraticDiscriminantAnalysis)\n",
    "print('AdaBoostClassifier', AdaBoostClassifier)"
   ]
  },
  {
   "cell_type": "code",
   "execution_count": 18,
   "id": "b0672aa4",
   "metadata": {
    "execution": {
     "iopub.execute_input": "2023-04-19T21:09:04.549331Z",
     "iopub.status.busy": "2023-04-19T21:09:04.548498Z",
     "iopub.status.idle": "2023-04-19T21:09:04.560912Z",
     "shell.execute_reply": "2023-04-19T21:09:04.559639Z"
    },
    "papermill": {
     "duration": 0.022659,
     "end_time": "2023-04-19T21:09:04.563531",
     "exception": false,
     "start_time": "2023-04-19T21:09:04.540872",
     "status": "completed"
    },
    "tags": []
   },
   "outputs": [],
   "source": [
    "submission_preds = clf.predict(test) \n",
    "df = pd.DataFrame({\"PassengerId\": test_ids.values,\n",
    "                   \"Survived\": submission_preds,\n",
    "                  })\n",
    "df.to_csv(\"submission2.csv\", index=False)"
   ]
  },
  {
   "cell_type": "code",
   "execution_count": null,
   "id": "5ee1d8cc",
   "metadata": {
    "papermill": {
     "duration": 0.00584,
     "end_time": "2023-04-19T21:09:04.575499",
     "exception": false,
     "start_time": "2023-04-19T21:09:04.569659",
     "status": "completed"
    },
    "tags": []
   },
   "outputs": [],
   "source": []
  }
 ],
 "metadata": {
  "kernelspec": {
   "display_name": "Python 3",
   "language": "python",
   "name": "python3"
  },
  "language_info": {
   "codemirror_mode": {
    "name": "ipython",
    "version": 3
   },
   "file_extension": ".py",
   "mimetype": "text/x-python",
   "name": "python",
   "nbconvert_exporter": "python",
   "pygments_lexer": "ipython3",
   "version": "3.7.12"
  },
  "papermill": {
   "default_parameters": {},
   "duration": 14.99064,
   "end_time": "2023-04-19T21:09:05.405068",
   "environment_variables": {},
   "exception": null,
   "input_path": "__notebook__.ipynb",
   "output_path": "__notebook__.ipynb",
   "parameters": {},
   "start_time": "2023-04-19T21:08:50.414428",
   "version": "2.3.4"
  }
 },
 "nbformat": 4,
 "nbformat_minor": 5
}
